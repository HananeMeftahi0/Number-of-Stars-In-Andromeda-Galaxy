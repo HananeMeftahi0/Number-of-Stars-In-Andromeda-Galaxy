{
 "cells": [
  {
   "cell_type": "code",
   "execution_count": 1,
   "metadata": {},
   "outputs": [],
   "source": [
    "import cv2\n",
    "import time"
   ]
  },
  {
   "cell_type": "code",
   "execution_count": 2,
   "metadata": {},
   "outputs": [
    {
     "name": "stdout",
     "output_type": "stream",
     "text": [
      "temps d'execution du programme est: 2101.7647705078125 secondes\n",
      "le nombre total des etoiles est :  190369843\n"
     ]
    }
   ],
   "source": [
    "tps_deb = (time.time())*60\n",
    "img = cv2.imread('C:/Users/Hanane/Downloads/heic1502a.tif',0)\n",
    "img_thresh =  cv2.adaptiveThreshold(img,255,cv2.ADAPTIVE_THRESH_MEAN_C,cv2.THRESH_BINARY,59,0)\n",
    "nbr_total_etoiles = ((200 < img_thresh)).sum()\n",
    "print(\"temps d'execution du programme est:\",((time.time())*60) - tps_deb,\"secondes\")\n",
    "print(\"le nombre total des etoiles est : \", nbr_total_etoiles ) "
   ]
  }
 ],
 "metadata": {
  "kernelspec": {
   "display_name": "Python 3",
   "language": "python",
   "name": "python3"
  },
  "language_info": {
   "codemirror_mode": {
    "name": "ipython",
    "version": 3
   },
   "file_extension": ".py",
   "mimetype": "text/x-python",
   "name": "python",
   "nbconvert_exporter": "python",
   "pygments_lexer": "ipython3",
   "version": "3.7.3"
  }
 },
 "nbformat": 4,
 "nbformat_minor": 2
}
